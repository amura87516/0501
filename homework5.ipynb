{
 "cells": [
  {
   "cell_type": "code",
   "execution_count": 9,
   "metadata": {},
   "outputs": [
    {
     "name": "stdout",
     "output_type": "stream",
     "text": [
      "5*6\n",
      "30.0\n"
     ]
    }
   ],
   "source": [
    "def count(input):\n",
    "    n1,operator,n2 = input\n",
    "    if operator == '+':\n",
    "        print(float(n1)+float(n2))\n",
    "    elif operator == '-':\n",
    "        print(float(n1)-float(n2))\n",
    "    elif operator == '*':\n",
    "        print(float(n1)*float(n2))\n",
    "    elif operator == '/':\n",
    "        print(float(n1)/float(n2))\n",
    "count(input().replace('+',' + ').replace('-',' - ').replace('*',' * ').replace('/',' / ').split(' '))"
   ]
  },
  {
   "cell_type": "code",
   "execution_count": null,
   "metadata": {},
   "outputs": [],
   "source": []
  },
  {
   "cell_type": "code",
   "execution_count": null,
   "metadata": {},
   "outputs": [],
   "source": []
  }
 ],
 "metadata": {
  "kernelspec": {
   "display_name": "Python 3",
   "language": "python",
   "name": "python3"
  },
  "language_info": {
   "codemirror_mode": {
    "name": "ipython",
    "version": 3
   },
   "file_extension": ".py",
   "mimetype": "text/x-python",
   "name": "python",
   "nbconvert_exporter": "python",
   "pygments_lexer": "ipython3",
   "version": "3.7.3"
  }
 },
 "nbformat": 4,
 "nbformat_minor": 2
}
